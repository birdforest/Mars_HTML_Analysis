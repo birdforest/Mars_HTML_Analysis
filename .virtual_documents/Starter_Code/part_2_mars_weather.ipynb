


# Import relevant libraries
from splinter import Browser
from bs4 import BeautifulSoup as soup
import matplotlib.pyplot as plt
import pandas as pd


browser = Browser('chrome')





# Visit the website
# https://static.bc-edx.com/data/web/mars_facts/temperature.html
url = "https://static.bc-edx.com/data/web/mars_facts/temperature.html"
browser.visit(url)





# Obtain the HTML content of the webpage
html = browser.html
# Create a Beautiful Soup Object
page_soup = soup(html, "html.parser")


# Find the HTML table containing the data
table = page_soup.find("table", {"class": "table"})
# Extract all rows of data
rows = table.find_all("tr")





# Create an empty list
mars_data = []
# Extract column headers
headers = [header.text.strip() for header in rows[0].find_all("th")]
# Loop through the scraped data to create a list of rows
for row in rows[1:]:
    row_data = [cell.text.strip() for cell in row.find_all("td")]
    mars_data.append(row_data)


# Create a Pandas DataFrame by using the list of rows and a list of the column names
mars_df = pd.DataFrame(mars_data, columns=headers)


# Confirm DataFrame was created successfully
mars_df.head()





# Examine data type of each column
mars_df.dtypes


# Change data types for data analysis
# sol, ls, month default are int32. Manually update to match sample solution

mars_df['terrestrial_date'] = pd.to_datetime(mars_df['terrestrial_date'])
mars_df['sol'] = mars_df['sol'].astype('int64')
mars_df['ls'] = mars_df['ls'].astype('int64')
mars_df['month'] = mars_df['month'].astype('int64')
mars_df['min_temp'] = mars_df['min_temp'].astype(float)
mars_df['pressure'] = mars_df['pressure'].astype(float)


# Confirm type changes were successful by examining data types again
mars_df.dtypes





# 1. How many months are there on Mars?
number_months = mars_df['month'].value_counts().sort_index()
number_months


# 2. How many Martian days' worth of data are there?
number_martian_days = mars_df['sol'].nunique()
number_martian_days


# 3. What is the average low temperature by month?
average_low_temp_per_month = mars_df.groupby('month')['min_temp'].mean()
average_low_temp_per_month


# Plot the average temperature by month
plt.figure(figsize=(8, 6))
average_low_temp_per_month.plot(kind='bar', color='darkblue', alpha = 0.7)
plt.xlabel('month')
plt.ylabel('Temperature in Celsius')
plt.xticks(rotation=90)
plt.show()


# Identify the coldest and hottest months in Curiosity's location

sorted_average_low_temp_per_month = average_low_temp_per_month.sort_values(ascending=True)

plt.figure(figsize=(8, 6))
sorted_average_low_temp_per_month.plot(kind='bar', color='darkblue', alpha = 0.7)
plt.xlabel('month')
plt.ylabel('Temperature in Celsius')
plt.xticks(rotation=90)
plt.show()

coldest_month = average_low_temp_per_month.idxmin()
hottest_month = average_low_temp_per_month.idxmax()

print("Coldest month:", coldest_month)
print("Hottest month:", hottest_month)



# 4. Average pressure by Martian month
average_pressure_per_month = mars_df.groupby('month')['pressure'].mean()
average_pressure_per_month


# Plot the average pressure by month
sorted_average_pressure_per_month = average_pressure_per_month.sort_values()

plt.figure(figsize = (8, 6))
sorted_average_pressure_per_month.plot(kind='bar', color='darkblue', alpha = 0.7)
plt.xlabel('month')
plt.ylabel('Atmospheric Pressure')
plt.xticks(rotation = 90)
plt.show()

most_pressured_month = average_pressure_per_month.idxmax()
least_pressured_month = average_pressure_per_month.idxmin()

print("Highest Average Atomospheric Pressure Month:", most_pressured_month)
print("Lowest Average Atomospheric Pressure Month:", least_pressured_month)


# 5. How many terrestrial (earth) days are there in a Martian year?
mars_df['terrestrial_date'] = pd.to_datetime(mars_df['terrestrial_date'])

# mars_df['days_since_start'] = (mars_df['terrestrial_date'] - mars_df['terrestrial_date'].min()).dt.days + 1

# Add a new column indicating the number of days since the first recorded date
mars_df['days_since_start'] = range(1, len(mars_df) + 1)

daily_min_temp = mars_df.groupby('days_since_start')['min_temp'].mean()

plt.figure(figsize=(8, 6))
daily_min_temp.plot(color = 'darkblue', alpha = 0.7)
plt.xlabel('Number of terrestrial days')
plt.ylabel('Minimum temperature')
plt.xticks(rotation = 0)
plt.show()

print("Using the two low points (day = 450) & (day = 1100), there are approximately 650 (1100 - 450) terrestrial days in a Martian year")














# Write the data to a CSV
mars_df.to_csv('mars_weather_data.csv', index=False)


browser.quit()



