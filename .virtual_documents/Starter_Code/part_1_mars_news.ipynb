


# Import Splinter and BeautifulSoup
from splinter import Browser
from bs4 import BeautifulSoup as soup


browser = Browser('chrome')





# Visit the Mars news site
url = 'https://static.bc-edx.com/data/web/mars_news/index.html'
browser.visit(url)





# Create a Beautiful Soup object
soup_object = soup(browser.html, 'html.parser')


# Extract all the text elements
text_elements = soup_object.find_all(text=True)





# Create an empty list to store the dictionaries
news_articles = []


# Loop through the text elements
for article in soup_object.find_all('div', class_='list_text'):
    # Extract the title and preview text from the elements
    title = article.find('div', class_='content_title').text.strip()
    preview = article.find('div', class_='article_teaser_body').text.strip()
# Extract the title and preview text from the elements
# Store each title and preview pair in a dictionary
    article_dict = {'title': title, 'preview': preview}
# Add the dictionary to the list
    news_articles.append(article_dict)


# Print the list to confirm success
printed_titles = set()

for article in news_articles:
    # Strip any extra whitespace characters from the title before checking duplication
    title = article['title'].strip()
    
    if title not in printed_titles:
        print("{'title': \"" + title +"\",\n 'preview': \"" + article['preview'] + "\"}")

        printed_titles.add(title)


browser.quit()



